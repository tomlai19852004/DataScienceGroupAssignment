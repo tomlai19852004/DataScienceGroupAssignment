{
 "cells": [
  {
   "cell_type": "markdown",
   "metadata": {},
   "source": [
    "10 mins presentation to showcase the following\n",
    "\n",
    "- Exploratory Data Analysis\n",
    "- Motivation for feature selection\n",
    "- Checking whether the preconditions for linear regression have been met\n",
    "- Evaluation of model's strengths and weaknesses"
   ]
  },
  {
   "cell_type": "markdown",
   "metadata": {
    "collapsed": false
   },
   "source": [
    "How do plan benefits and rate differ across state?\n",
    "How do plan benefits and rate vary by age?\n",
    "\n",
    "PlanAttributes.csv\n",
    "StateCode\n",
    "PlanType\n",
    "MetaLevel\n",
    "PlanLevelExclusions\n",
    "WellnessProgramOffered\n",
    "DiseaseManagementProgramsOffered\n",
    "OutOfCountryCoverage\n",
    "OutOfServiceAreaCoverage\n",
    "\n",
    "Crosswalk2016.csv\n",
    "MetalLevel_2015\n",
    "MetalLevel_2016\n",
    "MultistatePlan_2015\n",
    "MultistatePlan_2016\n",
    "PlanID_2015\n",
    "PlanID_2016\n",
    "State\n",
    "\n",
    "Rate.csv\n",
    "IndividualRate\n",
    "PlanId\n",
    "StateCode\n",
    "Age\n"
   ]
  }
 ],
 "metadata": {
  "kernelspec": {
   "display_name": "Python 3",
   "language": "python",
   "name": "python3"
  },
  "language_info": {
   "codemirror_mode": {
    "name": "ipython",
    "version": 3
   },
   "file_extension": ".py",
   "mimetype": "text/x-python",
   "name": "python",
   "nbconvert_exporter": "python",
   "pygments_lexer": "ipython3",
   "version": "3.5.0"
  }
 },
 "nbformat": 4,
 "nbformat_minor": 0
}
